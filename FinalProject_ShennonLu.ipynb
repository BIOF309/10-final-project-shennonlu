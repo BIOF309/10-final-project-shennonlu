{
 "cells": [
  {
   "cell_type": "markdown",
   "metadata": {},
   "source": [
    "# Comparing Ethereum Prices with Google Trends\n",
    "\n",
    "## What is Ethereum?\n",
    "\n",
    "You've probably heard of bitcoin - a cryptocurrency that is the first decentralized digital currency. It uses a peer-to-peer network, and transactions use cryptography, and are recorded on a blockchain, which is a public distributed ledger. \n",
    "\n",
    "Ethereum is a public, blockchain-based distributed computing platform that runs smart contracts: applications that run exactly as programmed.\n",
    "\n",
    "Examples of smart contracts:\n",
    "\n",
    "* Function as 'multi-signature' accounts, so that funds are spent only when a required percentage of people agree\n",
    "* Manage agreements between users, say, if one buys insurance from the other\n",
    "* Provide utility to other contracts (similar to how a software library works)\n",
    "* Store information about an application, such as domain registration information or membership records.\n",
    "\n",
    "Ethereum uses Ether  (ETH), a digital currency/token used to pay for the transactions.\n",
    "\n",
    "## Project Goal\n",
    "To compare ethereum prices to Google trend keywords for Ether, etc. \n",
    "\n",
    "I found the history of Ethererum prices on Kaggle as a csv file: https://www.kaggle.com/kingburrito666/ethereum-historical-data/data\n",
    "\n",
    "To pull Google trends, I used pytrends, which is an unofficial API for Google Trends. I installed pytrends:\n",
    "\n",
    "`/Users/shennonlu/anaconda/envs/ananas/bin/pip install pytrends`\n",
    "\n",
    "https://github.com/GeneralMills/pytrends\n",
    "\n",
    "## Sources\n",
    "* https://www.ethereum.org/\n",
    "* https://www.coindesk.com/information/ethereum-smart-contracts-work/ \n"
   ]
  },
  {
   "cell_type": "code",
   "execution_count": 53,
   "metadata": {
    "collapsed": true
   },
   "outputs": [],
   "source": [
    "#import necessary packages\n",
    "import numpy as np\n",
    "import pandas as pd\n",
    "import pytrends\n",
    "import matplotlib.pyplot as plt\n",
    "from pytrends.request import TrendReq"
   ]
  },
  {
   "cell_type": "code",
   "execution_count": 54,
   "metadata": {
    "collapsed": true
   },
   "outputs": [],
   "source": [
    "#import a .csv file to a DataFrame\n",
    "df_price = pd.read_csv('EtherMarketCapChart.csv', index_col='date', parse_dates=True)"
   ]
  },
  {
   "cell_type": "code",
   "execution_count": 55,
   "metadata": {},
   "outputs": [
    {
     "data": {
      "text/html": [
       "<div>\n",
       "<style>\n",
       "    .dataframe thead tr:only-child th {\n",
       "        text-align: right;\n",
       "    }\n",
       "\n",
       "    .dataframe thead th {\n",
       "        text-align: left;\n",
       "    }\n",
       "\n",
       "    .dataframe tbody tr th {\n",
       "        vertical-align: top;\n",
       "    }\n",
       "</style>\n",
       "<table border=\"1\" class=\"dataframe\">\n",
       "  <thead>\n",
       "    <tr style=\"text-align: right;\">\n",
       "      <th></th>\n",
       "      <th>UnixTimeStamp</th>\n",
       "      <th>Supply</th>\n",
       "      <th>MarketCap</th>\n",
       "      <th>Price</th>\n",
       "    </tr>\n",
       "  </thead>\n",
       "  <tbody>\n",
       "    <tr>\n",
       "      <th>count</th>\n",
       "      <td>8.660000e+02</td>\n",
       "      <td>8.660000e+02</td>\n",
       "      <td>866.000000</td>\n",
       "      <td>866.000000</td>\n",
       "    </tr>\n",
       "    <tr>\n",
       "      <th>mean</th>\n",
       "      <td>1.475584e+09</td>\n",
       "      <td>8.456716e+07</td>\n",
       "      <td>7648.436861</td>\n",
       "      <td>81.802564</td>\n",
       "    </tr>\n",
       "    <tr>\n",
       "      <th>std</th>\n",
       "      <td>2.161391e+07</td>\n",
       "      <td>7.428615e+06</td>\n",
       "      <td>12407.099058</td>\n",
       "      <td>130.579625</td>\n",
       "    </tr>\n",
       "    <tr>\n",
       "      <th>min</th>\n",
       "      <td>1.438214e+09</td>\n",
       "      <td>7.204931e+07</td>\n",
       "      <td>0.000000</td>\n",
       "      <td>0.000000</td>\n",
       "    </tr>\n",
       "    <tr>\n",
       "      <th>25%</th>\n",
       "      <td>1.456898e+09</td>\n",
       "      <td>7.779412e+07</td>\n",
       "      <td>582.925736</td>\n",
       "      <td>7.152500</td>\n",
       "    </tr>\n",
       "    <tr>\n",
       "      <th>50%</th>\n",
       "      <td>1.475582e+09</td>\n",
       "      <td>8.465381e+07</td>\n",
       "      <td>967.770995</td>\n",
       "      <td>11.555000</td>\n",
       "    </tr>\n",
       "    <tr>\n",
       "      <th>75%</th>\n",
       "      <td>1.494266e+09</td>\n",
       "      <td>9.145810e+07</td>\n",
       "      <td>8053.942251</td>\n",
       "      <td>87.927500</td>\n",
       "    </tr>\n",
       "    <tr>\n",
       "      <th>max</th>\n",
       "      <td>1.513210e+09</td>\n",
       "      <td>9.628188e+07</td>\n",
       "      <td>67295.168640</td>\n",
       "      <td>699.090000</td>\n",
       "    </tr>\n",
       "  </tbody>\n",
       "</table>\n",
       "</div>"
      ],
      "text/plain": [
       "       UnixTimeStamp        Supply     MarketCap       Price\n",
       "count   8.660000e+02  8.660000e+02    866.000000  866.000000\n",
       "mean    1.475584e+09  8.456716e+07   7648.436861   81.802564\n",
       "std     2.161391e+07  7.428615e+06  12407.099058  130.579625\n",
       "min     1.438214e+09  7.204931e+07      0.000000    0.000000\n",
       "25%     1.456898e+09  7.779412e+07    582.925736    7.152500\n",
       "50%     1.475582e+09  8.465381e+07    967.770995   11.555000\n",
       "75%     1.494266e+09  9.145810e+07   8053.942251   87.927500\n",
       "max     1.513210e+09  9.628188e+07  67295.168640  699.090000"
      ]
     },
     "execution_count": 55,
     "metadata": {},
     "output_type": "execute_result"
    }
   ],
   "source": [
    "df_price.describe()"
   ]
  },
  {
   "cell_type": "code",
   "execution_count": 56,
   "metadata": {},
   "outputs": [
    {
     "data": {
      "text/plain": [
       "date\n",
       "2015-07-30    0.0\n",
       "2015-07-31    0.0\n",
       "2015-08-01    0.0\n",
       "2015-08-02    0.0\n",
       "2015-08-03    0.0\n",
       "Name: Price, dtype: float64"
      ]
     },
     "execution_count": 56,
     "metadata": {},
     "output_type": "execute_result"
    }
   ],
   "source": [
    "df_price['Price'].head()"
   ]
  },
  {
   "cell_type": "code",
   "execution_count": 57,
   "metadata": {},
   "outputs": [
    {
     "data": {
      "text/plain": [
       "date\n",
       "2017-12-07    421.15\n",
       "2017-12-11    513.29\n",
       "2017-12-12    656.52\n",
       "2017-12-13    699.09\n",
       "2017-12-14    693.58\n",
       "Name: Price, dtype: float64"
      ]
     },
     "execution_count": 57,
     "metadata": {},
     "output_type": "execute_result"
    }
   ],
   "source": [
    "df_price['Price'].tail()"
   ]
  },
  {
   "cell_type": "code",
   "execution_count": 58,
   "metadata": {
    "collapsed": true
   },
   "outputs": [],
   "source": [
    "#Connect to Google using pytrends\n",
    "pytrends = TrendReq(hl='en-US', tz=360)\n",
    "\n",
    "#Build keyword list\n",
    "kw_list = ['Ethereum', 'Ether', 'ETH', 'Ripple', 'XRP']\n",
    "\n",
    "#Build payload, specify timeframe to be the same as df_price\n",
    "pytrends.build_payload(kw_list, cat=0, timeframe='2015-07-30 2017-12-14', geo='', gprop='')\n",
    "\n",
    "#Use \"Interest Over Time\" API parameter from pytrends\n",
    "df_trends = pytrends.interest_over_time()"
   ]
  },
  {
   "cell_type": "code",
   "execution_count": 59,
   "metadata": {},
   "outputs": [
    {
     "data": {
      "text/html": [
       "<div>\n",
       "<style>\n",
       "    .dataframe thead tr:only-child th {\n",
       "        text-align: right;\n",
       "    }\n",
       "\n",
       "    .dataframe thead th {\n",
       "        text-align: left;\n",
       "    }\n",
       "\n",
       "    .dataframe tbody tr th {\n",
       "        vertical-align: top;\n",
       "    }\n",
       "</style>\n",
       "<table border=\"1\" class=\"dataframe\">\n",
       "  <thead>\n",
       "    <tr style=\"text-align: right;\">\n",
       "      <th></th>\n",
       "      <th>Ethereum</th>\n",
       "      <th>Ether</th>\n",
       "      <th>ETH</th>\n",
       "      <th>Ripple</th>\n",
       "      <th>XRP</th>\n",
       "    </tr>\n",
       "  </thead>\n",
       "  <tbody>\n",
       "    <tr>\n",
       "      <th>count</th>\n",
       "      <td>124.000000</td>\n",
       "      <td>124.000000</td>\n",
       "      <td>124.000000</td>\n",
       "      <td>124.000000</td>\n",
       "      <td>124.000000</td>\n",
       "    </tr>\n",
       "    <tr>\n",
       "      <th>mean</th>\n",
       "      <td>8.274194</td>\n",
       "      <td>4.290323</td>\n",
       "      <td>4.580645</td>\n",
       "      <td>6.040323</td>\n",
       "      <td>1.112903</td>\n",
       "    </tr>\n",
       "    <tr>\n",
       "      <th>std</th>\n",
       "      <td>12.641613</td>\n",
       "      <td>1.354152</td>\n",
       "      <td>2.814298</td>\n",
       "      <td>9.470020</td>\n",
       "      <td>3.452841</td>\n",
       "    </tr>\n",
       "    <tr>\n",
       "      <th>min</th>\n",
       "      <td>0.000000</td>\n",
       "      <td>2.000000</td>\n",
       "      <td>2.000000</td>\n",
       "      <td>3.000000</td>\n",
       "      <td>0.000000</td>\n",
       "    </tr>\n",
       "    <tr>\n",
       "      <th>25%</th>\n",
       "      <td>1.000000</td>\n",
       "      <td>3.000000</td>\n",
       "      <td>3.000000</td>\n",
       "      <td>3.000000</td>\n",
       "      <td>0.000000</td>\n",
       "    </tr>\n",
       "    <tr>\n",
       "      <th>50%</th>\n",
       "      <td>2.000000</td>\n",
       "      <td>4.000000</td>\n",
       "      <td>3.000000</td>\n",
       "      <td>3.000000</td>\n",
       "      <td>0.000000</td>\n",
       "    </tr>\n",
       "    <tr>\n",
       "      <th>75%</th>\n",
       "      <td>10.500000</td>\n",
       "      <td>5.000000</td>\n",
       "      <td>5.000000</td>\n",
       "      <td>7.000000</td>\n",
       "      <td>2.000000</td>\n",
       "    </tr>\n",
       "    <tr>\n",
       "      <th>max</th>\n",
       "      <td>69.000000</td>\n",
       "      <td>11.000000</td>\n",
       "      <td>18.000000</td>\n",
       "      <td>100.000000</td>\n",
       "      <td>35.000000</td>\n",
       "    </tr>\n",
       "  </tbody>\n",
       "</table>\n",
       "</div>"
      ],
      "text/plain": [
       "         Ethereum       Ether         ETH      Ripple         XRP\n",
       "count  124.000000  124.000000  124.000000  124.000000  124.000000\n",
       "mean     8.274194    4.290323    4.580645    6.040323    1.112903\n",
       "std     12.641613    1.354152    2.814298    9.470020    3.452841\n",
       "min      0.000000    2.000000    2.000000    3.000000    0.000000\n",
       "25%      1.000000    3.000000    3.000000    3.000000    0.000000\n",
       "50%      2.000000    4.000000    3.000000    3.000000    0.000000\n",
       "75%     10.500000    5.000000    5.000000    7.000000    2.000000\n",
       "max     69.000000   11.000000   18.000000  100.000000   35.000000"
      ]
     },
     "execution_count": 59,
     "metadata": {},
     "output_type": "execute_result"
    }
   ],
   "source": [
    "df_trends.describe()"
   ]
  },
  {
   "cell_type": "code",
   "execution_count": 60,
   "metadata": {},
   "outputs": [
    {
     "data": {
      "text/plain": [
       "date\n",
       "2015-08-02    1\n",
       "2015-08-09    1\n",
       "2015-08-16    0\n",
       "2015-08-23    0\n",
       "2015-08-30    0\n",
       "Name: Ethereum, dtype: int64"
      ]
     },
     "execution_count": 60,
     "metadata": {},
     "output_type": "execute_result"
    }
   ],
   "source": [
    "df_trends['Ethereum'].head()"
   ]
  },
  {
   "cell_type": "code",
   "execution_count": 61,
   "metadata": {},
   "outputs": [
    {
     "data": {
      "text/plain": [
       "date\n",
       "2017-11-12    20\n",
       "2017-11-19    30\n",
       "2017-11-26    47\n",
       "2017-12-03    54\n",
       "2017-12-10    69\n",
       "Name: Ethereum, dtype: int64"
      ]
     },
     "execution_count": 61,
     "metadata": {},
     "output_type": "execute_result"
    }
   ],
   "source": [
    "df_trends['Ethereum'].tail()"
   ]
  },
  {
   "cell_type": "code",
   "execution_count": 62,
   "metadata": {},
   "outputs": [
    {
     "data": {
      "text/plain": [
       "<matplotlib.axes._subplots.AxesSubplot at 0x11b31e198>"
      ]
     },
     "execution_count": 62,
     "metadata": {},
     "output_type": "execute_result"
    }
   ],
   "source": [
    "#Plot the Price of Ether, and the Google Trend for Ether\n",
    "df_price['Price'].plot(kind='line', legend ='Price')\n",
    "df_trends['Ethereum'].plot(kind='line', legend = 'Ethereum')\n",
    "df_trends['ETH'].plot(kind='line', legend = 'Ether')"
   ]
  },
  {
   "cell_type": "code",
   "execution_count": 63,
   "metadata": {},
   "outputs": [
    {
     "data": {
      "image/png": "[encoded data removed]",
      "text/plain": [
       "<matplotlib.figure.Figure at 0x11b31af60>"
      ]
     },
     "metadata": {},
     "output_type": "display_data"
    }
   ],
   "source": [
    "plt.title(\"Price of Ether compared with Google Searches for Ethereum and Ether\")\n",
    "plt.show()"
   ]
  },
  {
   "cell_type": "code",
   "execution_count": 64,
   "metadata": {},
   "outputs": [
    {
     "data": {
      "text/plain": [
       "0.90461500980214493"
      ]
     },
     "execution_count": 64,
     "metadata": {},
     "output_type": "execute_result"
    }
   ],
   "source": [
    "#Find Correlation between Price and Google Trend\n",
    "df_trends['Ethereum'].corr(df_price['Price'])"
   ]
  },
  {
   "cell_type": "code",
   "execution_count": 65,
   "metadata": {},
   "outputs": [
    {
     "data": {
      "text/plain": [
       "date\n",
       "2015-07-30         NaN\n",
       "2015-07-31         NaN\n",
       "2015-08-01         NaN\n",
       "2015-08-02         NaN\n",
       "2015-08-03         NaN\n",
       "2015-08-04         NaN\n",
       "2015-08-05         NaN\n",
       "2015-08-06         NaN\n",
       "2015-08-07         NaN\n",
       "2015-08-08         NaN\n",
       "2015-08-09         NaN\n",
       "2015-08-10         NaN\n",
       "2015-08-11         NaN\n",
       "2015-08-12         NaN\n",
       "2015-08-13         NaN\n",
       "2015-08-14         NaN\n",
       "2015-08-15         NaN\n",
       "2015-08-16   -0.595327\n",
       "2015-08-17   -0.595327\n",
       "2015-08-18   -0.595327\n",
       "2015-08-19   -0.595327\n",
       "2015-08-20   -0.595327\n",
       "2015-08-21   -0.595327\n",
       "2015-08-22   -0.595327\n",
       "2015-08-23   -0.667129\n",
       "2015-08-24   -0.667129\n",
       "2015-08-25   -0.667129\n",
       "2015-08-26   -0.667129\n",
       "2015-08-27   -0.667129\n",
       "2015-08-28   -0.667129\n",
       "                ...   \n",
       "2017-11-13    0.882171\n",
       "2017-11-14    0.882171\n",
       "2017-11-15    0.882171\n",
       "2017-11-16    0.882171\n",
       "2017-11-17    0.882171\n",
       "2017-11-18    0.882171\n",
       "2017-11-19    0.887554\n",
       "2017-11-20    0.887554\n",
       "2017-11-21    0.887554\n",
       "2017-11-22    0.887554\n",
       "2017-11-23    0.887554\n",
       "2017-11-24    0.887554\n",
       "2017-11-25    0.887554\n",
       "2017-11-26    0.898129\n",
       "2017-11-27    0.898129\n",
       "2017-11-28    0.898129\n",
       "2017-11-29    0.898129\n",
       "2017-11-30    0.898129\n",
       "2017-12-01    0.898129\n",
       "2017-12-02    0.898129\n",
       "2017-12-03    0.904615\n",
       "2017-12-04    0.904615\n",
       "2017-12-05    0.904615\n",
       "2017-12-06    0.904615\n",
       "2017-12-07    0.904615\n",
       "2017-12-10    0.904615\n",
       "2017-12-11    0.904615\n",
       "2017-12-12    0.904615\n",
       "2017-12-13    0.904615\n",
       "2017-12-14    0.904615\n",
       "Length: 867, dtype: float64"
      ]
     },
     "execution_count": 65,
     "metadata": {},
     "output_type": "execute_result"
    }
   ],
   "source": [
    "#Find Rolling Correlation\n",
    "df_trends['Ethereum'].rolling('10d').corr(df_price['Price'])"
   ]
  },
  {
   "cell_type": "code",
   "execution_count": 66,
   "metadata": {},
   "outputs": [
    {
     "data": {
      "image/png": "[encoded data removed]",
      "text/plain": [
       "<matplotlib.figure.Figure at 0x113316470>"
      ]
     },
     "metadata": {},
     "output_type": "display_data"
    }
   ],
   "source": [
    "#Plot Rolling Correlation \n",
    "df_trends['Ethereum'].rolling('1D').corr(df_price['Price']).plot(kind = 'line')\n",
    "plt.title(\"Rolling Correlation between Price and Google\")\n",
    "plt.show()"
   ]
  },
  {
   "cell_type": "code",
   "execution_count": 67,
   "metadata": {},
   "outputs": [],
   "source": [
    "#Build another keyword with Bitcoin\n",
    "kw_list_2 = ['Bitcoin']\n",
    "pytrends.build_payload(kw_list_2, cat=0, timeframe='2015-07-30 2017-12-14', geo='', gprop='')\n",
    "df_trends_2 = pytrends.interest_over_time()"
   ]
  },
  {
   "cell_type": "code",
   "execution_count": 68,
   "metadata": {},
   "outputs": [
    {
     "data": {
      "text/html": [
       "<div>\n",
       "<style>\n",
       "    .dataframe thead tr:only-child th {\n",
       "        text-align: right;\n",
       "    }\n",
       "\n",
       "    .dataframe thead th {\n",
       "        text-align: left;\n",
       "    }\n",
       "\n",
       "    .dataframe tbody tr th {\n",
       "        vertical-align: top;\n",
       "    }\n",
       "</style>\n",
       "<table border=\"1\" class=\"dataframe\">\n",
       "  <thead>\n",
       "    <tr style=\"text-align: right;\">\n",
       "      <th></th>\n",
       "      <th>Bitcoin</th>\n",
       "      <th>isPartial</th>\n",
       "    </tr>\n",
       "    <tr>\n",
       "      <th>date</th>\n",
       "      <th></th>\n",
       "      <th></th>\n",
       "    </tr>\n",
       "  </thead>\n",
       "  <tbody>\n",
       "    <tr>\n",
       "      <th>2015-08-02</th>\n",
       "      <td>2</td>\n",
       "      <td>False</td>\n",
       "    </tr>\n",
       "    <tr>\n",
       "      <th>2015-08-09</th>\n",
       "      <td>2</td>\n",
       "      <td>False</td>\n",
       "    </tr>\n",
       "    <tr>\n",
       "      <th>2015-08-16</th>\n",
       "      <td>3</td>\n",
       "      <td>False</td>\n",
       "    </tr>\n",
       "    <tr>\n",
       "      <th>2015-08-23</th>\n",
       "      <td>3</td>\n",
       "      <td>False</td>\n",
       "    </tr>\n",
       "    <tr>\n",
       "      <th>2015-08-30</th>\n",
       "      <td>2</td>\n",
       "      <td>False</td>\n",
       "    </tr>\n",
       "  </tbody>\n",
       "</table>\n",
       "</div>"
      ],
      "text/plain": [
       "            Bitcoin isPartial\n",
       "date                         \n",
       "2015-08-02        2     False\n",
       "2015-08-09        2     False\n",
       "2015-08-16        3     False\n",
       "2015-08-23        3     False\n",
       "2015-08-30        2     False"
      ]
     },
     "execution_count": 68,
     "metadata": {},
     "output_type": "execute_result"
    }
   ],
   "source": [
    "df_trends_2.head()"
   ]
  },
  {
   "cell_type": "code",
   "execution_count": 69,
   "metadata": {},
   "outputs": [
    {
     "data": {
      "image/png": "[encoded data removed]",
      "text/plain": [
       "<matplotlib.figure.Figure at 0x11b440550>"
      ]
     },
     "metadata": {},
     "output_type": "display_data"
    }
   ],
   "source": [
    "#Plot Price of Ether with Bitcoin Google Trend Search\n",
    "df_price['Price'].plot(kind='line', legend = 'PriceEther')\n",
    "df_trends_2['Bitcoin'].plot(kind='line', legend = 'Bitcoin Google Search')\n",
    "plt.show()"
   ]
  },
  {
   "cell_type": "code",
   "execution_count": 70,
   "metadata": {},
   "outputs": [
    {
     "data": {
      "text/plain": [
       "0.80148748525093816"
      ]
     },
     "execution_count": 70,
     "metadata": {},
     "output_type": "execute_result"
    }
   ],
   "source": [
    "df_trends_2['Bitcoin'].corr(df_price['Price'])"
   ]
  },
  {
   "cell_type": "code",
   "execution_count": 73,
   "metadata": {},
   "outputs": [
    {
     "data": {
      "image/png": "[encoded data removed]",
      "text/plain": [
       "<matplotlib.figure.Figure at 0x11b35fe48>"
      ]
     },
     "metadata": {},
     "output_type": "display_data"
    }
   ],
   "source": [
    "#Plot Price of Ether with Ripple Google Trend Search\n",
    "kw_list_3 = ['Ripple', 'XRP']\n",
    "pytrends.build_payload(kw_list_3, cat=0, timeframe='2015-07-30 2017-12-14', geo='', gprop='')\n",
    "df_trends_3 = pytrends.interest_over_time()\n",
    "df_price['Price'].plot(kind='line', legend = 'PriceEther')\n",
    "df_trends_3['Ripple'].plot(kind='line', legend = 'Ripple')\n",
    "df_trends_3['XRP'].plot(kind='line', legend = 'XRP')\n",
    "plt.show()"
   ]
  },
  {
   "cell_type": "code",
   "execution_count": 74,
   "metadata": {},
   "outputs": [
    {
     "data": {
      "text/plain": [
       "0.89423781537426805"
      ]
     },
     "execution_count": 74,
     "metadata": {},
     "output_type": "execute_result"
    }
   ],
   "source": [
    "df_trends_3['Ripple'].corr(df_price['Price'])"
   ]
  },
  {
   "cell_type": "code",
   "execution_count": 75,
   "metadata": {},
   "outputs": [
    {
     "data": {
      "text/plain": [
       "0.89913500347322461"
      ]
     },
     "execution_count": 75,
     "metadata": {},
     "output_type": "execute_result"
    }
   ],
   "source": [
    "df_trends_3['XRP'].corr(df_price['Price'])"
   ]
  },
  {
   "cell_type": "code",
   "execution_count": null,
   "metadata": {
    "collapsed": true
   },
   "outputs": [],
   "source": []
  }
 ],
 "metadata": {
  "kernelspec": {
   "display_name": "Python 3",
   "language": "python",
   "name": "python3"
  },
  "language_info": {
   "codemirror_mode": {
    "name": "ipython",
    "version": 3
   },
   "file_extension": ".py",
   "mimetype": "text/x-python",
   "name": "python",
   "nbconvert_exporter": "python",
   "pygments_lexer": "ipython3",
   "version": "3.6.2"
  }
 },
 "nbformat": 4,
 "nbformat_minor": 2
}
